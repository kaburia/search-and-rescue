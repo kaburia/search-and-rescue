{
 "cells": [
  {
   "cell_type": "markdown",
   "id": "76fc28ac",
   "metadata": {},
   "source": [
    "## Inferencing SpeciesNet Model"
   ]
  },
  {
   "cell_type": "code",
   "execution_count": null,
   "id": "99d05a40",
   "metadata": {},
   "outputs": [],
   "source": [
    "# Download the dataset from Google drive\n",
    "url_path = 'https://drive.google.com/drive/u/0/folders/1R17xoqkLWiFjHCCftBO_Gvtofu_5Hsjc'\n",
    "!gdown --id 1R17xoqkLWiFjHCCftBO_Gvtofu_5Hsjc --folder -O data"
   ]
  },
  {
   "cell_type": "code",
   "execution_count": null,
   "id": "787a12de",
   "metadata": {},
   "outputs": [],
   "source": [
    "# Download the model\n",
    "!curl -L -o model.tar.gz  https://www.kaggle.com/api/v1/models/google/speciesnet/keras/v4.0.0a/3/download\n",
    "\n",
    "!tar -xzf model.tar.gz -C model"
   ]
  },
  {
   "cell_type": "code",
   "execution_count": null,
   "id": "3580ab83",
   "metadata": {},
   "outputs": [],
   "source": [
    "# Run the model\n",
    "!python -m speciesnet.scripts.run_model --folders \"data\"   --predictions_json \"impala_malawi.json\"   --model \"/model\"\n"
   ]
  },
  {
   "cell_type": "code",
   "execution_count": null,
   "id": "de1b634a",
   "metadata": {},
   "outputs": [],
   "source": [
    "import json\n",
    "with open('impala_malawi.json') as f:\n",
    "  output_file = json.load(f)"
   ]
  },
  {
   "cell_type": "code",
   "execution_count": null,
   "id": "ef0b90a6",
   "metadata": {},
   "outputs": [],
   "source": [
    "import pandas as pd\n",
    "output_df = pd.json_normalize(output_file['predictions'])"
   ]
  },
  {
   "cell_type": "code",
   "execution_count": null,
   "id": "10dee275",
   "metadata": {},
   "outputs": [],
   "source": [
    "data = [output_df['prediction'].iloc[i].split(';')[1:] for i in range(len(output_df))]\n",
    "\n",
    "columns = ['Class', 'Order', 'Family', 'Genus', 'Species', 'Common Name']\n",
    "df = pd.DataFrame(data, columns=columns)\n",
    "\n",
    "# replace the '' with Unknown\n",
    "df = df.replace('', 'Unknown')\n",
    "\n",
    "df_counts = df.groupby(columns).size().reset_index(name='Count')\n",
    "df_counts.fillna('Unknown', inplace=True)"
   ]
  },
  {
   "cell_type": "code",
   "execution_count": null,
   "id": "7c637a6f",
   "metadata": {},
   "outputs": [],
   "source": [
    "import plotly.express as px\n",
    "\n",
    "fig = px.treemap(\n",
    "    df_counts,\n",
    "    path=columns,\n",
    "    values='Count',\n",
    "    title='Hierarchical Animal Classification Treemap'\n",
    ")\n",
    "fig.update_layout(margin=dict(t=50, l=25, r=25, b=25))\n",
    "fig.show()\n"
   ]
  },
  {
   "cell_type": "markdown",
   "id": "34fab9fe",
   "metadata": {},
   "source": [
    "## Inferencing MegaDetector"
   ]
  },
  {
   "cell_type": "code",
   "execution_count": null,
   "id": "36dabd81",
   "metadata": {},
   "outputs": [],
   "source": [
    "'''\n",
    "add os walk to the nested directories to get the outputsas a method where if enabled the \n",
    "walk happens if not just that repository to get the images\n",
    "'''"
   ]
  },
  {
   "cell_type": "code",
   "execution_count": null,
   "id": "f1433c86",
   "metadata": {},
   "outputs": [],
   "source": [
    "from ultralytics import YOLO\n",
    "import os\n",
    "\n",
    "\n",
    "model_path = os.path.join(os.getcwd(), 'models', 'MDV6b-yolov9c.pt')\n",
    "\n",
    "# Load the yolo model\n",
    "model = YOLO(model_path)\n",
    "\n",
    "\n",
    "img_list = [os.path.join('data', img) for img in os.listdir('data') if img.endswith('.jpg')]\n",
    "\n",
    "# Run the tracking and inferencing of the clip\n",
    "results = model.track(img_list, save=True, save_txt=True, conf=0.5, iou=0.7)"
   ]
  },
  {
   "cell_type": "markdown",
   "id": "cafcb0b5",
   "metadata": {},
   "source": [
    "## Inferencing MegaDetector with SAHI for overhead processing\n",
    "\n",
    "- Meant to run on Drones\n",
    "- Tiling the image to windows"
   ]
  },
  {
   "cell_type": "code",
   "execution_count": null,
   "id": "d85dc088",
   "metadata": {},
   "outputs": [],
   "source": [
    "!pip install -U torch sahi ultralytics\n",
    "!pip install ipywidgets"
   ]
  },
  {
   "cell_type": "code",
   "execution_count": null,
   "id": "be862aca",
   "metadata": {},
   "outputs": [],
   "source": [
    "!pip install -U PytorchWildlife\n"
   ]
  },
  {
   "cell_type": "code",
   "execution_count": null,
   "id": "e37fcf42",
   "metadata": {},
   "outputs": [],
   "source": [
    "from PytorchWildlife.models import detection as pw_detection"
   ]
  },
  {
   "cell_type": "code",
   "execution_count": null,
   "id": "fb23effd",
   "metadata": {},
   "outputs": [],
   "source": [
    "from sahi import AutoDetectionModel\n",
    "from sahi.utils.cv import read_image\n",
    "from sahi.utils.file import download_from_url\n",
    "from sahi.predict import get_prediction, get_sliced_prediction, predict\n",
    "from IPython.display import Image"
   ]
  },
  {
   "cell_type": "code",
   "execution_count": null,
   "id": "bca80866",
   "metadata": {},
   "outputs": [],
   "source": [
    "# Load the MegaDetector V6 model\n",
    "detection_model = pw_detection.MegaDetectorV6(device='cuda', \n",
    "                                              pretrained=True, \n",
    "                                              version=\"MDV6-yolov9-e\") # Model loaded from /root/.cache/torch/hub/checkpoints"
   ]
  },
  {
   "cell_type": "code",
   "execution_count": null,
   "id": "2ec7a9b2",
   "metadata": {},
   "outputs": [],
   "source": [
    "detection_model = AutoDetectionModel.from_pretrained(\n",
    "    model_type='ultralytics',\n",
    "    model_path=\"/root/.cache/torch/hub/checkpoints/MDV6-yolov9-e-1280.pt\", # any yolov8/yolov9/yolo11/yolo12/rt-detr det model is supported\n",
    "    confidence_threshold=0.5,\n",
    "    device=\"cuda:0\", # or 'cuda:0' if GPU is available\n",
    ")"
   ]
  },
  {
   "cell_type": "code",
   "execution_count": null,
   "id": "8083ab00",
   "metadata": {},
   "outputs": [],
   "source": [
    "result = get_sliced_prediction(\n",
    "    \"/content/drive/MyDrive/Aerial Widlife Photos/EWB Tsavo survey Left observer/L 02-25-2014/IMG_8730.JPG\",\n",
    "    detection_model,\n",
    "    slice_height = 512,\n",
    "    slice_width = 512,\n",
    "    overlap_height_ratio = 0.8,\n",
    "    overlap_width_ratio = 0.8\n",
    ")"
   ]
  },
  {
   "cell_type": "code",
   "execution_count": null,
   "id": "164e9e67",
   "metadata": {},
   "outputs": [],
   "source": [
    "result.export_visuals(export_dir=\"demo_data/\", hide_conf=True, hide_labels=True)\n",
    "\n",
    "Image(\"demo_data/prediction_visual.png\")"
   ]
  }
 ],
 "metadata": {
  "language_info": {
   "name": "python"
  }
 },
 "nbformat": 4,
 "nbformat_minor": 5
}
